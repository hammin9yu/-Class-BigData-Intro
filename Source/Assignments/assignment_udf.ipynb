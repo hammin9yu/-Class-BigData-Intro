{
 "cells": [
  {
   "cell_type": "code",
   "execution_count": 1,
   "id": "80cbc446-ea65-4df3-80ee-ed425810797a",
   "metadata": {},
   "outputs": [],
   "source": [
    "from pyspark.sql import SparkSession"
   ]
  },
  {
   "cell_type": "code",
   "execution_count": 2,
   "id": "38f5e43c-38c4-473f-997f-a20526673e96",
   "metadata": {},
   "outputs": [],
   "source": [
    "spark = SparkSession.builder.master('local').appName('udf').getOrCreate()"
   ]
  },
  {
   "cell_type": "code",
   "execution_count": 16,
   "id": "f4fa6c79-1753-4579-8357-b7d724a1607d",
   "metadata": {},
   "outputs": [
    {
     "data": {
      "text/plain": [
       "[('유강남', 30),\n",
       " ('전준우', 37),\n",
       " ('안치홍', 32),\n",
       " ('김민석', 19),\n",
       " ('노진혁', 33),\n",
       " ('안권수', 30),\n",
       " ('잭 렉스', 29),\n",
       " ('황성빈', 25),\n",
       " ('최준용', 21),\n",
       " ('박세웅', 27),\n",
       " ('김상수', 35),\n",
       " ('나균안', 25),\n",
       " ('김원중', 29),\n",
       " ('래리 서튼', 53)]"
      ]
     },
     "execution_count": 16,
     "metadata": {},
     "output_type": "execute_result"
    }
   ],
   "source": [
    "giants = [\n",
    "    ('유강남', 30),\n",
    "    ('전준우', 37),\n",
    "    ('안치홍', 32),\n",
    "    ('김민석', 19),\n",
    "    ('노진혁', 33),\n",
    "    ('안권수', 30),\n",
    "    ('잭 렉스', 29),\n",
    "    ('황성빈', 25),\n",
    "    ('최준용', 21),\n",
    "    ('박세웅', 27),\n",
    "    ('김상수', 35),\n",
    "    ('나균안', 25),\n",
    "    ('김원중', 29),\n",
    "    ('래리 서튼', 53)\n",
    "]\n",
    "giants"
   ]
  },
  {
   "cell_type": "code",
   "execution_count": 17,
   "id": "17edfe07-7913-4d9b-8dd5-3fc9a5194115",
   "metadata": {},
   "outputs": [],
   "source": [
    "schema = ['name', 'age']"
   ]
  },
  {
   "cell_type": "code",
   "execution_count": 18,
   "id": "e82471fd-c722-4bd3-ad76-570c7efa7de4",
   "metadata": {},
   "outputs": [],
   "source": [
    "from pyspark.sql.types import StructType, StructField, StringType, IntegerType"
   ]
  },
  {
   "cell_type": "code",
   "execution_count": 19,
   "id": "364a18d7-7479-49fb-851b-0725807628af",
   "metadata": {},
   "outputs": [],
   "source": [
    "df = spark.createDataFrame(data=giants, schema=schema)"
   ]
  },
  {
   "cell_type": "code",
   "execution_count": 20,
   "id": "abf9732a-f9ca-438d-be6a-f87cfffaebf2",
   "metadata": {},
   "outputs": [
    {
     "name": "stdout",
     "output_type": "stream",
     "text": [
      "+---------+---+\n",
      "|     name|age|\n",
      "+---------+---+\n",
      "|   유강남| 30|\n",
      "|   전준우| 37|\n",
      "|   안치홍| 32|\n",
      "|   김민석| 19|\n",
      "|   노진혁| 33|\n",
      "|   안권수| 30|\n",
      "|  잭 렉스| 29|\n",
      "|   황성빈| 25|\n",
      "|   최준용| 21|\n",
      "|   박세웅| 27|\n",
      "|   김상수| 35|\n",
      "|   나균안| 25|\n",
      "|   김원중| 29|\n",
      "|래리 서튼| 53|\n",
      "+---------+---+\n",
      "\n"
     ]
    }
   ],
   "source": [
    "df.show()"
   ]
  },
  {
   "cell_type": "code",
   "execution_count": 21,
   "id": "7f9e607c-0326-42e4-b9c3-802287697883",
   "metadata": {},
   "outputs": [],
   "source": [
    "df.createOrReplaceTempView('lotte')"
   ]
  },
  {
   "cell_type": "code",
   "execution_count": 22,
   "id": "02d51ec5-fe29-4ab5-a42c-748f93535328",
   "metadata": {},
   "outputs": [],
   "source": [
    "# udf\n",
    "from pyspark.sql.functions import udf\n",
    "\n",
    "@udf('String')\n",
    "def age_category(age):\n",
    "    if(age < 35):\n",
    "        age_category = 'young'\n",
    "    elif(age >=35 or age < 60):\n",
    "        age_category = 'adult'\n",
    "    else:\n",
    "        age_category = 'senior'\n",
    "    \n",
    "    return age_category"
   ]
  },
  {
   "cell_type": "code",
   "execution_count": 23,
   "id": "b688bd99-824b-42c3-8a70-7d766816d069",
   "metadata": {},
   "outputs": [
    {
     "data": {
      "text/plain": [
       "<function __main__.age_category(age)>"
      ]
     },
     "execution_count": 23,
     "metadata": {},
     "output_type": "execute_result"
    }
   ],
   "source": [
    "spark.udf.register('age_category', age_category)"
   ]
  },
  {
   "cell_type": "code",
   "execution_count": 24,
   "id": "ff6941ce-2015-45a2-8aec-23f502166445",
   "metadata": {},
   "outputs": [
    {
     "name": "stdout",
     "output_type": "stream",
     "text": [
      "+---------+-----------------+\n",
      "|     name|age_category(age)|\n",
      "+---------+-----------------+\n",
      "|   유강남|            young|\n",
      "|   전준우|            adult|\n",
      "|   안치홍|            young|\n",
      "|   김민석|            young|\n",
      "|   노진혁|            young|\n",
      "|   안권수|            young|\n",
      "|  잭 렉스|            young|\n",
      "|   황성빈|            young|\n",
      "|   최준용|            young|\n",
      "|   박세웅|            young|\n",
      "|   김상수|            adult|\n",
      "|   나균안|            young|\n",
      "|   김원중|            young|\n",
      "|래리 서튼|            adult|\n",
      "+---------+-----------------+\n",
      "\n"
     ]
    }
   ],
   "source": [
    "spark.sql(\n",
    "    \"SELECT name, age_category(age)\\\n",
    "    FROM lotte\"\n",
    ").show()"
   ]
  },
  {
   "cell_type": "markdown",
   "id": "8dd1df65-853b-4ca1-ab12-79f86cf57b40",
   "metadata": {},
   "source": [
    "### Finish"
   ]
  }
 ],
 "metadata": {
  "kernelspec": {
   "display_name": "Python 3 (ipykernel)",
   "language": "python",
   "name": "python3"
  },
  "language_info": {
   "codemirror_mode": {
    "name": "ipython",
    "version": 3
   },
   "file_extension": ".py",
   "mimetype": "text/x-python",
   "name": "python",
   "nbconvert_exporter": "python",
   "pygments_lexer": "ipython3",
   "version": "3.9.13"
  }
 },
 "nbformat": 4,
 "nbformat_minor": 5
}
